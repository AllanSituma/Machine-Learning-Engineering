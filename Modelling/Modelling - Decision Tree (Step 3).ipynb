{
 "cells": [
  {
   "cell_type": "markdown",
   "metadata": {},
   "source": [
    "# Step 1\n",
    "#### Importing required libraries"
   ]
  },
  {
   "cell_type": "code",
   "execution_count": 1,
   "metadata": {},
   "outputs": [
    {
     "name": "stderr",
     "output_type": "stream",
     "text": [
      "/home/stush/anaconda3/lib/python3.6/site-packages/sklearn/cross_validation.py:41: DeprecationWarning: This module was deprecated in version 0.18 in favor of the model_selection module into which all the refactored classes and functions are moved. Also note that the interface of the new CV iterators are different from that of this module. This module will be removed in 0.20.\n",
      "  \"This module will be removed in 0.20.\", DeprecationWarning)\n",
      "/home/stush/anaconda3/lib/python3.6/site-packages/sklearn/learning_curve.py:22: DeprecationWarning: This module was deprecated in version 0.18 in favor of the model_selection module into which all the functions are moved. This module will be removed in 0.20\n",
      "  DeprecationWarning)\n"
     ]
    }
   ],
   "source": [
    "%matplotlib inline\n",
    "import pandas as pd\n",
    "import numpy as np\n",
    "import matplotlib.pyplot as plt\n",
    "\n",
    "from sklearn.tree import DecisionTreeClassifier\n",
    "from sklearn.model_selection import cross_val_score\n",
    "from sklearn.model_selection import GridSearchCV\n",
    "from sklearn.metrics import accuracy_score\n",
    "from sklearn.cross_validation import train_test_split\n",
    "from sklearn.decomposition import PCA\n",
    "#from sklearn.lda import LDA\n",
    "from sklearn.preprocessing import StandardScaler\n",
    "from sklearn.pipeline import Pipeline\n",
    "from sklearn.cross_validation import StratifiedKFold\n",
    "from sklearn.learning_curve import learning_curve\n",
    "from sklearn.learning_curve import validation_curve\n",
    "from sklearn.metrics import confusion_matrix\n",
    "import warnings\n",
    "import seaborn as sn\n",
    "warnings.filterwarnings('ignore')"
   ]
  },
  {
   "cell_type": "markdown",
   "metadata": {},
   "source": [
    "#### Functions to be used"
   ]
  },
  {
   "cell_type": "code",
   "execution_count": 2,
   "metadata": {},
   "outputs": [],
   "source": [
    "def displayall(df):\n",
    "    \"\"\"\n",
    "    Setting the maximum rows and columns to to 1000.\n",
    "    This is to enable us view all the features in the data set\n",
    "    \n",
    "    \"\"\"\n",
    "    with pd.option_context(\"display.max_rows\",1000):\n",
    "        with pd.option_context(\"display.max_columns\",1000):\n",
    "            display(df)"
   ]
  },
  {
   "cell_type": "markdown",
   "metadata": {},
   "source": [
    "# Step 2\n",
    "#### Import the data"
   ]
  },
  {
   "cell_type": "code",
   "execution_count": 3,
   "metadata": {},
   "outputs": [],
   "source": [
    "data = pd.read_csv('/home/stush/Personal Projects/master/data/modelling_data.csv')"
   ]
  },
  {
   "cell_type": "markdown",
   "metadata": {},
   "source": [
    "# Step 3\n",
    "#### Clean the data for modelling"
   ]
  },
  {
   "cell_type": "code",
   "execution_count": 4,
   "metadata": {},
   "outputs": [
    {
     "data": {
      "text/plain": [
       "Index(['ClientID', 'Loans', 'DefaultedLoans', 'NonPerformingLoans',\n",
       "       'AvgLoanAmount', 'LastLoanAmount', 'LastLoanPeriod', 'Lending',\n",
       "       'AvgLendingAmount', 'LastLendingAmount', 'LastLoanOn', 'LastDefaultOn',\n",
       "       'Createdon', 'Defaulted >  10 Days', 'LastDefault > 10 On',\n",
       "       'LastRepaymentOn', 'MaxLoanAmount', 'LastDefault > 2on', 'Defaulted>2',\n",
       "       'CRBListed', 'grade', 'MobileLoansScore',\n",
       "       'avgMobiLoanPrincipalAmountmySector', 'creditHistorymySector',\n",
       "       'creditHistoryotherSector', 'lastMobiLoanPrincipalAmountotherSector',\n",
       "       'maxMobiLoanPrincipalAmountotherSector', 'paAccountsmySector',\n",
       "       'paAccountsotherSector', 'npaAccountsmySector',\n",
       "       'npaAccountsotherSector', 'paAccountsWithDhmySector',\n",
       "       'paAccountsWithDhotherSector', 'LastLoanOnYear', 'LastLoanOnMonth',\n",
       "       'LastLoanOnDay', 'LastLoanOnDayofweek', 'LastLoanOnIs_month_end',\n",
       "       'LastLoanOnIs_month_start', 'LastLoanOnIs_quarter_end',\n",
       "       'LastLoanOnIs_quarter_start', 'LastLoanOnIs_year_end',\n",
       "       'LastLoanOnIs_year_start', 'CreatedonYear', 'CreatedonMonth',\n",
       "       'CreatedonDay', 'CreatedonDayofweek', 'CreatedonIs_month_end',\n",
       "       'CreatedonIs_month_start', 'CreatedonIs_quarter_end',\n",
       "       'CreatedonIs_quarter_start', 'CreatedonIs_year_end',\n",
       "       'CreatedonIs_year_start', 'signup_to_loansapp_days',\n",
       "       'Loanapp_to_Lastpayment_days', 'grade_codes'],\n",
       "      dtype='object')"
      ]
     },
     "execution_count": 4,
     "metadata": {},
     "output_type": "execute_result"
    }
   ],
   "source": [
    "#Display all columns\n",
    "data.columns"
   ]
  },
  {
   "cell_type": "code",
   "execution_count": 5,
   "metadata": {},
   "outputs": [],
   "source": [
    "#Drop clientID column as its not needed\n",
    "model_df_v1 = data.drop(['ClientID'],axis = 1)"
   ]
  },
  {
   "cell_type": "code",
   "execution_count": 6,
   "metadata": {},
   "outputs": [],
   "source": [
    "# displayall(model_df_v1.head())"
   ]
  },
  {
   "cell_type": "code",
   "execution_count": 7,
   "metadata": {},
   "outputs": [],
   "source": [
    "#Drop all date columns and grade columns. All these columns were expanded/encode\n",
    "model_df_v2 = model_df_v1.drop(['LastDefault > 2on','LastLoanOn','Createdon','LastRepaymentOn','grade','LastDefault > 10 On','LastDefaultOn'],axis = 1)"
   ]
  },
  {
   "cell_type": "code",
   "execution_count": 8,
   "metadata": {},
   "outputs": [],
   "source": [
    "model_df_v2 = model_df_v2[model_df_v2.NonPerformingLoans!=2]"
   ]
  },
  {
   "cell_type": "code",
   "execution_count": 9,
   "metadata": {},
   "outputs": [
    {
     "data": {
      "text/plain": [
       "(9040, 48)"
      ]
     },
     "execution_count": 9,
     "metadata": {},
     "output_type": "execute_result"
    }
   ],
   "source": [
    "model_df_v2.shape"
   ]
  },
  {
   "cell_type": "markdown",
   "metadata": {},
   "source": [
    "# Step 4\n",
    "#### Seperate the X variable from the Y variable in the data set"
   ]
  },
  {
   "cell_type": "code",
   "execution_count": 10,
   "metadata": {},
   "outputs": [],
   "source": [
    "y = model_df_v2['NonPerformingLoans'].values.reshape(-1)"
   ]
  },
  {
   "cell_type": "code",
   "execution_count": 11,
   "metadata": {},
   "outputs": [],
   "source": [
    "X = model_df_v2.drop(['NonPerformingLoans'],axis = 1)"
   ]
  },
  {
   "cell_type": "code",
   "execution_count": 12,
   "metadata": {},
   "outputs": [],
   "source": [
    "# displayall(X.head())"
   ]
  },
  {
   "cell_type": "code",
   "execution_count": 13,
   "metadata": {},
   "outputs": [
    {
     "data": {
      "text/plain": [
       "(9040, 47)"
      ]
     },
     "execution_count": 13,
     "metadata": {},
     "output_type": "execute_result"
    }
   ],
   "source": [
    "X.shape"
   ]
  },
  {
   "cell_type": "code",
   "execution_count": 14,
   "metadata": {},
   "outputs": [
    {
     "data": {
      "text/plain": [
       "(9040,)"
      ]
     },
     "execution_count": 14,
     "metadata": {},
     "output_type": "execute_result"
    }
   ],
   "source": [
    "y.shape"
   ]
  },
  {
   "cell_type": "markdown",
   "metadata": {},
   "source": [
    "# Step 5\n",
    "#### Preprocessing"
   ]
  },
  {
   "cell_type": "code",
   "execution_count": 15,
   "metadata": {},
   "outputs": [],
   "source": [
    "#Split the data into training and test set\n",
    "X_train, X_test, y_train, y_test = train_test_split(X, y, test_size=0.35)"
   ]
  },
  {
   "cell_type": "markdown",
   "metadata": {},
   "source": [
    "# Step 6\n",
    "#### Modelling "
   ]
  },
  {
   "cell_type": "code",
   "execution_count": 16,
   "metadata": {},
   "outputs": [],
   "source": [
    "# First define the pipeline\n",
    "\n",
    "tree = Pipeline([('scl', StandardScaler()),\n",
    "                    ('pca', PCA(n_components=30)),\n",
    "                    ('clf', DecisionTreeClassifier(criterion='entropy',\n",
    "                                                   max_depth=3,\n",
    "                                                   random_state=1))])\n",
    "\n",
    "#Pipeline without PCA\n",
    "NoPCA_tree = Pipeline([('scl', StandardScaler()),\n",
    "                    ('clf', DecisionTreeClassifier(criterion='entropy',\n",
    "                                                   max_depth=3,\n",
    "                                                   random_state=1))])"
   ]
  },
  {
   "cell_type": "code",
   "execution_count": 17,
   "metadata": {},
   "outputs": [
    {
     "name": "stdout",
     "output_type": "stream",
     "text": [
      "Test Accuracy: 0.769\n"
     ]
    }
   ],
   "source": [
    "#Fitting the model and printing the output\n",
    "tree.fit(X_train, y_train)\n",
    "print('Test Accuracy: %.3f' % tree.score(X_test, y_test))"
   ]
  },
  {
   "cell_type": "code",
   "execution_count": 104,
   "metadata": {},
   "outputs": [
    {
     "name": "stdout",
     "output_type": "stream",
     "text": [
      "Train Accuracy: 0.768\n"
     ]
    }
   ],
   "source": [
    "print('Train Accuracy: %.3f' % tree.score(X_train, y_train))"
   ]
  },
  {
   "cell_type": "code",
   "execution_count": 105,
   "metadata": {},
   "outputs": [
    {
     "name": "stdout",
     "output_type": "stream",
     "text": [
      "Whole data Accuracy: 0.768\n"
     ]
    }
   ],
   "source": [
    "print('Whole data Accuracy: %.3f' % tree.score(X, y))"
   ]
  },
  {
   "cell_type": "code",
   "execution_count": 18,
   "metadata": {},
   "outputs": [],
   "source": [
    "y_pred = tree.predict(X_test)"
   ]
  },
  {
   "cell_type": "code",
   "execution_count": 19,
   "metadata": {},
   "outputs": [],
   "source": [
    "cm = np.array(confusion_matrix(y_true=y_test, y_pred=y_pred))\n",
    "confusion = pd.DataFrame(cm,index =['No NPL','NPL'],columns = ['Predicted No NPL','Predicted NPL'])         "
   ]
  },
  {
   "cell_type": "code",
   "execution_count": 20,
   "metadata": {},
   "outputs": [
    {
     "data": {
      "text/plain": [
       "<matplotlib.axes._subplots.AxesSubplot at 0x7f4347db0b00>"
      ]
     },
     "execution_count": 20,
     "metadata": {},
     "output_type": "execute_result"
    },
    {
     "data": {
      "image/png": "[encoded data removed]",
      "text/plain": [
       "<Figure size 432x288 with 2 Axes>"
      ]
     },
     "metadata": {
      "needs_background": "light"
     },
     "output_type": "display_data"
    }
   ],
   "source": [
    "sn.heatmap(confusion,annot = True,fmt ='d')"
   ]
  },
  {
   "cell_type": "code",
   "execution_count": 108,
   "metadata": {},
   "outputs": [
    {
     "name": "stdout",
     "output_type": "stream",
     "text": [
      "Test Accuracy: 0.888\n"
     ]
    }
   ],
   "source": [
    "#Fitting the model and printing the output\n",
    "NoPCA_tree.fit(X_train, y_train)\n",
    "print('Test Accuracy: %.3f' % NoPCA_tree.score(X_test, y_test))"
   ]
  },
  {
   "cell_type": "code",
   "execution_count": 109,
   "metadata": {},
   "outputs": [
    {
     "name": "stdout",
     "output_type": "stream",
     "text": [
      "Train Accuracy: 0.888\n"
     ]
    }
   ],
   "source": [
    "print('Train Accuracy: %.3f' % NoPCA_tree.score(X_train, y_train))"
   ]
  },
  {
   "cell_type": "code",
   "execution_count": 110,
   "metadata": {},
   "outputs": [
    {
     "name": "stdout",
     "output_type": "stream",
     "text": [
      "Whole data Accuracy: 0.888\n"
     ]
    }
   ],
   "source": [
    "print('Whole data Accuracy: %.3f' % NoPCA_tree.score(X, y))"
   ]
  },
  {
   "cell_type": "code",
   "execution_count": 22,
   "metadata": {},
   "outputs": [],
   "source": [
    "y_pred_NoPCA = NoPCA_tree.predict(X_test)"
   ]
  },
  {
   "cell_type": "code",
   "execution_count": 23,
   "metadata": {},
   "outputs": [],
   "source": [
    "cm_NoPCA = np.array(confusion_matrix(y_true=y_test, y_pred=y_pred_NoPCA))\n",
    "confusion_NoPCA = pd.DataFrame(cm_NoPCA,index =['No NPL','NPL'],columns = ['Predicted No NPL','Predicted NPL']) "
   ]
  },
  {
   "cell_type": "code",
   "execution_count": 24,
   "metadata": {},
   "outputs": [
    {
     "data": {
      "text/plain": [
       "<matplotlib.axes._subplots.AxesSubplot at 0x7f4347d6a5c0>"
      ]
     },
     "execution_count": 24,
     "metadata": {},
     "output_type": "execute_result"
    },
    {
     "data": {
      "image/png": "[encoded data removed]",
      "text/plain": [
       "<Figure size 432x288 with 2 Axes>"
      ]
     },
     "metadata": {
      "needs_background": "light"
     },
     "output_type": "display_data"
    }
   ],
   "source": [
    "sn.heatmap(confusion_NoPCA,annot = True,fmt ='d')"
   ]
  },
  {
   "cell_type": "code",
   "execution_count": 25,
   "metadata": {},
   "outputs": [],
   "source": [
    "#Cross validation score\n",
    "scores = cross_val_score(estimator=NoPCA_tree,\n",
    "                         X=X_train,\n",
    "                         y=y_train,\n",
    "                         cv=10,\n",
    "                         n_jobs=1)"
   ]
  },
  {
   "cell_type": "code",
   "execution_count": 26,
   "metadata": {},
   "outputs": [
    {
     "name": "stdout",
     "output_type": "stream",
     "text": [
      "CV accuracy: 0.884 +/- 0.018\n"
     ]
    }
   ],
   "source": [
    "print('CV accuracy: %.3f +/- %.3f' % (np.mean(scores),np.std(scores)))"
   ]
  },
  {
   "cell_type": "code",
   "execution_count": 27,
   "metadata": {},
   "outputs": [],
   "source": [
    "train_sizes, train_scores, test_scores =learning_curve(estimator=NoPCA_tree,\n",
    "                                                        X=X_train,\n",
    "                                                        y=y_train,\n",
    "                                                        train_sizes=np.linspace(0.1, 1.0, 10),\n",
    "                                                        cv=10,\n",
    "                                                        n_jobs=1)"
   ]
  },
  {
   "cell_type": "code",
   "execution_count": 28,
   "metadata": {},
   "outputs": [],
   "source": [
    "train_mean = np.mean(train_scores, axis=1)\n",
    "train_std = np.std(train_scores, axis=1)\n",
    "test_mean = np.mean(test_scores, axis=1)\n",
    "test_std = np.std(test_scores, axis=1)"
   ]
  },
  {
   "cell_type": "code",
   "execution_count": 29,
   "metadata": {},
   "outputs": [
    {
     "data": {
      "image/png": "[encoded data removed]",
      "text/plain": [
       "<Figure size 1008x720 with 1 Axes>"
      ]
     },
     "metadata": {
      "needs_background": "light"
     },
     "output_type": "display_data"
    }
   ],
   "source": [
    "plt.figure(figsize = (14,10))\n",
    "\n",
    "plt.plot(train_sizes, train_mean,\n",
    "         color='blue', marker='o',\n",
    "         markersize=5,\n",
    "         label='training accuracy')\n",
    "\n",
    "plt.fill_between(train_sizes,\n",
    "                 train_mean + train_std,\n",
    "                 train_mean - train_std,\n",
    "                 alpha=0.15, color='blue')\n",
    "\n",
    "plt.plot(train_sizes, test_mean,\n",
    "         color='green', linestyle='--',\n",
    "         marker='s', markersize=5,\n",
    "         label='validation accuracy')\n",
    "\n",
    "plt.fill_between(train_sizes,\n",
    "                 test_mean + test_std,\n",
    "                 test_mean - test_std,\n",
    "                 alpha=0.15, color='green')\n",
    "\n",
    "plt.grid()\n",
    "plt.xlabel('Number of training samples')\n",
    "plt.ylabel('Accuracy')\n",
    "plt.legend(loc='lower right')\n",
    "plt.ylim([0.8, 1.0])\n",
    "plt.show()"
   ]
  },
  {
   "cell_type": "code",
   "execution_count": 93,
   "metadata": {},
   "outputs": [],
   "source": [
    "param_range = np.arange(1, 11)\n",
    "train_scores2, test_scores2 = validation_curve(estimator=NoPCA_tree,\n",
    "                                             X=X_train,\n",
    "                                             y=y_train,\n",
    "                                             param_name=\"clf__max_depth\",\n",
    "                                             param_range=np.arange(1, 11), \n",
    "                                             cv=10)\n"
   ]
  },
  {
   "cell_type": "code",
   "execution_count": 94,
   "metadata": {},
   "outputs": [],
   "source": [
    "train_mean2 = np.mean(train_scores2, axis=1)\n",
    "train_std2 = np.std(train_scores2, axis=1)\n",
    "test_mean2 = np.mean(test_scores2, axis=1)\n",
    "test_std2 = np.std(test_scores2, axis=1)"
   ]
  },
  {
   "cell_type": "code",
   "execution_count": 95,
   "metadata": {},
   "outputs": [
    {
     "data": {
      "text/plain": [
       "array([0.01753496, 0.01753496, 0.01755238, 0.01242984, 0.01358174,\n",
       "       0.0077836 , 0.00908313, 0.00691965, 0.00768168, 0.00911418])"
      ]
     },
     "execution_count": 95,
     "metadata": {},
     "output_type": "execute_result"
    }
   ],
   "source": [
    "test_std2"
   ]
  },
  {
   "cell_type": "code",
   "execution_count": 101,
   "metadata": {},
   "outputs": [
    {
     "data": {
      "image/png": "[encoded data removed]",
      "text/plain": [
       "<Figure size 1008x720 with 1 Axes>"
      ]
     },
     "metadata": {
      "needs_background": "light"
     },
     "output_type": "display_data"
    }
   ],
   "source": [
    "plt.figure(figsize = (14,10))\n",
    "\n",
    "plt.plot(param_range, \n",
    "         train_mean2,\n",
    "         color='blue', \n",
    "         marker='o',\n",
    "         markersize=5,\n",
    "         label='training accuracy')\n",
    "\n",
    "plt.fill_between(param_range, \n",
    "                 train_mean2 + train_std2,\n",
    "                 train_mean2 - train_std2, alpha=0.15,\n",
    "                 color='blue')\n",
    "\n",
    "plt.plot(param_range, \n",
    "         test_mean2,\n",
    "         color='green', \n",
    "         linestyle='--',\n",
    "         marker='s', \n",
    "         markersize=5,\n",
    "         label='validation accuracy')\n",
    "\n",
    "plt.fill_between(param_range,\n",
    "                 test_mean2 + test_std2,\n",
    "                 test_mean2 - test_std2,\n",
    "                 alpha=0.15, color='green')\n",
    "\n",
    "plt.grid()\n",
    "plt.xscale('log')\n",
    "plt.legend(loc='lower right')\n",
    "plt.xlabel('Parameter C')\n",
    "plt.ylabel('Accuracy')\n",
    "plt.ylim([0.7, 1.1])\n",
    "plt.show()"
   ]
  }
 ],
 "metadata": {
  "kernelspec": {
   "display_name": "Python 3",
   "language": "python",
   "name": "python3"
  },
  "language_info": {
   "codemirror_mode": {
    "name": "ipython",
    "version": 3
   },
   "file_extension": ".py",
   "mimetype": "text/x-python",
   "name": "python",
   "nbconvert_exporter": "python",
   "pygments_lexer": "ipython3",
   "version": "3.6.6"
  }
 },
 "nbformat": 4,
 "nbformat_minor": 2
}
